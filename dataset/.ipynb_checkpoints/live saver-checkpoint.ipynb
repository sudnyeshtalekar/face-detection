{
 "cells": [
  {
   "cell_type": "code",
   "execution_count": 17,
   "metadata": {},
   "outputs": [
    {
     "name": "stdout",
     "output_type": "stream",
     "text": [
      "Enter the person name getting clicked!hotie\n",
      "Clicked pics : 20\r"
     ]
    }
   ],
   "source": [
    "import cv2\n",
    "\n",
    "detector = cv2.CascadeClassifier('ml-vit-vellore-2019-master/Datasets/FaceCascade/templatedata.xml')\n",
    "\n",
    "camera = cv2.VideoCapture(0)\n",
    "\n",
    "name = input(\"Enter the person name getting clicked!\")\n",
    "pics_clicked = 0\n",
    "cnt = 0\n",
    "pics = []\n",
    "\n",
    "while True:\n",
    "    b,img = camera.read()\n",
    "    if b==False:\n",
    "        continue\n",
    "    # Find out faces--------------------------\n",
    "    faces = detector.detectMultiScale(img,1.3)\n",
    "    if(len(faces)==0):\n",
    "        continue\n",
    "    \n",
    "    \n",
    "    #Assuming a single face \n",
    "    f = faces[0]\n",
    "    x,y,w,h = f\n",
    "    green = (0,255,0)\n",
    "    cv2.rectangle(img,(x,y),(x+w,y+h),green,5)\n",
    "    crop_face = img[y:y+h,x:x+w]\n",
    "    cv2.imshow(\"Crop Face\",crop_face)\n",
    "    #-save the cropped face\n",
    "    if cnt%10==0:\n",
    "        \n",
    "        small_face = cv2.resize(crop_face,(100,100))\n",
    "        pics.append(small_face)\n",
    "        pics_clicked += 1\n",
    "        print(\"Clicked pics :\",pics_clicked,end='\\r')\n",
    "        if pics_clicked==20:\n",
    "            break\n",
    "    cnt+= 1\n",
    "    #----------------------\n",
    "    cv2.imshow(\"Image \",img)\n",
    "    key = cv2.waitKey(1)&0xFF\n",
    "    if key==ord('q'):\n",
    "        break\n",
    "    \n",
    "camera.release()   \n",
    "cv2.destroyAllWindows()"
   ]
  },
  {
   "cell_type": "code",
   "execution_count": 18,
   "metadata": {},
   "outputs": [
    {
     "name": "stdout",
     "output_type": "stream",
     "text": [
      "(20, 100, 100, 3)\n"
     ]
    }
   ],
   "source": [
    "import numpy as np\n",
    "pics = np.array(pics)\n",
    "print(pics.shape)"
   ]
  },
  {
   "cell_type": "code",
   "execution_count": 19,
   "metadata": {},
   "outputs": [],
   "source": [
    "np.save(name+\".npy\",pics)"
   ]
  },
  {
   "cell_type": "code",
   "execution_count": null,
   "metadata": {},
   "outputs": [],
   "source": []
  },
  {
   "cell_type": "code",
   "execution_count": null,
   "metadata": {},
   "outputs": [],
   "source": []
  },
  {
   "cell_type": "code",
   "execution_count": null,
   "metadata": {},
   "outputs": [],
   "source": [
    "\n"
   ]
  },
  {
   "cell_type": "code",
   "execution_count": null,
   "metadata": {},
   "outputs": [],
   "source": []
  },
  {
   "cell_type": "code",
   "execution_count": null,
   "metadata": {},
   "outputs": [],
   "source": []
  }
 ],
 "metadata": {
  "kernelspec": {
   "display_name": "Python 3",
   "language": "python",
   "name": "python3"
  },
  "language_info": {
   "codemirror_mode": {
    "name": "ipython",
    "version": 3
   },
   "file_extension": ".py",
   "mimetype": "text/x-python",
   "name": "python",
   "nbconvert_exporter": "python",
   "pygments_lexer": "ipython3",
   "version": "3.6.9"
  }
 },
 "nbformat": 4,
 "nbformat_minor": 2
}
